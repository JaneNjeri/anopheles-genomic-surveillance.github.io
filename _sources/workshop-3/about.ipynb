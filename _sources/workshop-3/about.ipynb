{
 "cells": [
  {
   "cell_type": "markdown",
   "id": "d27c267b",
   "metadata": {},
   "source": [
    "![banner](../banner.jpg)\n",
    "\n",
    "***Training course in data analysis for genomic surveillance of African malaria vectors***\n",
    "\n",
    "---"
   ]
  },
  {
   "cell_type": "markdown",
   "id": "4bd1b90f",
   "metadata": {},
   "source": [
    "# Workshop 3 - Population structure\n",
    "\n",
    "## Topic\n",
    "\n",
    "This training workshop covers the use of genomic data to analyse population structure in mosquitoes from the *Anopheles gambiae* complex. \n",
    "\n",
    "@@TODO preamble"
   ]
  },
  {
   "cell_type": "markdown",
   "id": "83b3d78d",
   "metadata": {},
   "source": [
    "## Structure and format\n",
    "\n",
    "This workshop comprises four modules:\n",
    "\n",
    "* {doc}`module-1-plotly`\n",
    "* {doc}`module-2-population-structure`\n",
    "* {doc}`module-3-snps`\n",
    "* {doc}`module-4-pca`\n",
    "\n",
    "Each module includes a video lecture, and is accompanied by a notebook which includes lecture notes, code examples and practical exercises"
   ]
  }
 ],
 "metadata": {
  "kernelspec": {
   "display_name": "Python 3 (ipykernel)",
   "language": "python",
   "name": "python3"
  },
  "language_info": {
   "codemirror_mode": {
    "name": "ipython",
    "version": 3
   },
   "file_extension": ".py",
   "mimetype": "text/x-python",
   "name": "python",
   "nbconvert_exporter": "python",
   "pygments_lexer": "ipython3",
   "version": "3.7.13"
  }
 },
 "nbformat": 4,
 "nbformat_minor": 5
}
