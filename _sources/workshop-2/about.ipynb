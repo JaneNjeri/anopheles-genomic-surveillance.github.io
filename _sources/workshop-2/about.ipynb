{
 "cells": [
  {
   "cell_type": "markdown",
   "id": "c6f4410c-7f7e-4cce-9921-175e7702ba1c",
   "metadata": {},
   "source": [
    "![banner](../banner.jpg)\n",
    "\n",
    "***Training course in data analysis for genomic surveillance of African malaria vectors***\n",
    "\n",
    "---"
   ]
  },
  {
   "cell_type": "markdown",
   "id": "44b51744-93e6-43a9-8039-4a1fccc3fe01",
   "metadata": {},
   "source": [
    "# Workshop 2 - Metabolic insecticide resistance\n",
    "\n",
    "Work in progress."
   ]
  },
  {
   "cell_type": "markdown",
   "id": "29608732-cabe-403a-b6a7-b1c6cf691236",
   "metadata": {},
   "source": [
    "## Topic\n",
    "\n",
    "@@TODO"
   ]
  },
  {
   "cell_type": "markdown",
   "id": "fdfc8cb0-a33d-478b-979b-cb75c8eb0974",
   "metadata": {},
   "source": [
    "## Structure and format\n",
    "\n",
    "@@TODO"
   ]
  },
  {
   "cell_type": "markdown",
   "id": "ad5aa638-20a9-41eb-802e-6e552f87d19f",
   "metadata": {},
   "source": [
    "## Preparation\n",
    "\n",
    "@@TODO"
   ]
  }
 ],
 "metadata": {
  "kernelspec": {
   "display_name": "Python 3 (ipykernel)",
   "language": "python",
   "name": "python3"
  },
  "language_info": {
   "codemirror_mode": {
    "name": "ipython",
    "version": 3
   },
   "file_extension": ".py",
   "mimetype": "text/x-python",
   "name": "python",
   "nbconvert_exporter": "python",
   "pygments_lexer": "ipython3",
   "version": "3.7.12"
  }
 },
 "nbformat": 4,
 "nbformat_minor": 5
}
